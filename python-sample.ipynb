{
 "cells": [
  {
   "cell_type": "markdown",
   "metadata": {},
   "source": [
    "## Imports"
   ]
  },
  {
   "cell_type": "code",
   "execution_count": 1,
   "metadata": {
    "collapsed": true
   },
   "outputs": [],
   "source": [
    "from scipy.misc import imread\n",
    "import os\n",
    "import matplotlib.pyplot as plt\n",
    "import pandas as pd\n",
    "import numpy as np\n",
    "from dataget import data # <== dataget\n",
    "\n",
    "%matplotlib inline"
   ]
  },
  {
   "cell_type": "markdown",
   "metadata": {},
   "source": [
    "## Obtener Dataset\n",
    "Utilizando la funcion `data` de `dataget` llamamos el dataset `mnist` y ejecutamos el metodo `get` por si acaso aun no tenemos los datos. Podriamos excluir el llamado a `.get()` si ya descargamos los datos desde la consola, sin embargo, `get` no descargara los datos si ya existen por lo tanto no hace daño tenerlo."
   ]
  },
  {
   "cell_type": "code",
   "execution_count": 2,
   "metadata": {},
   "outputs": [
    {
     "name": "stdout",
     "output_type": "stream",
     "text": [
      "===DOWNLOAD===\n",
      "downloading test-set.csv.zip\n",
      "downloading training-set.zip\n",
      "downloading test-set.zip\n",
      "training-set.zip 0%\n",
      "test-set.zip 0%\n",
      "test-set.csv.zip 0%\n",
      "test-set.csv.zip 65%\n",
      "test-set.csv.zip 90%\n",
      "test-set.zip 5%\n",
      "training-set.zip 5%\n",
      "training-set.zip 10%\n",
      "test-set.zip 10%\n",
      "training-set.zip 15%\n",
      "test-set.zip 15%\n",
      "training-set.zip 20%\n",
      "test-set.zip 20%\n",
      "training-set.zip 25%\n",
      "training-set.zip 30%\n",
      "test-set.zip 25%\n",
      "test-set.zip 30%\n",
      "test-set.zip 35%\n",
      "training-set.zip 35%\n",
      "test-set.zip 40%\n",
      "test-set.zip 45%\n",
      "test-set.zip 50%\n",
      "training-set.zip 40%\n",
      "test-set.zip 55%\n",
      "test-set.zip 60%\n",
      "test-set.zip 65%\n",
      "test-set.zip 70%\n",
      "training-set.zip 45%\n",
      "test-set.zip 75%\n",
      "test-set.zip 80%\n",
      "training-set.zip 50%\n",
      "test-set.zip 85%\n",
      "training-set.zip 55%\n",
      "training-set.zip 60%\n",
      "test-set.zip 90%\n",
      "test-set.zip 95%\n",
      "training-set.zip 65%\n",
      "test-set.zip 100%\n",
      "training-set.zip 70%\n",
      "training-set.zip 75%\n",
      "training-set.zip 80%\n",
      "training-set.zip 85%\n",
      "training-set.zip 90%\n",
      "training-set.zip 95%\n",
      "training-set.zip 100%\n",
      "\n",
      "===EXTRACT===\n",
      "extracting training-set.zip\n",
      "extracting test-set.zip\n",
      "extracting test-set.csv.zip\n",
      "organizing test-set\n",
      "\n",
      "===RM-COMPRESSED===\n",
      "removing compressed files\n",
      "\n",
      "===PROCESS===\n",
      "Image dims: (32, 32), Image format: jpg\n",
      "formating test-set 0\n",
      "formatting /data/cristian/supervised-avanzado-mnist/.dataget/data/mnist/test-set/0/0.csv\n",
      "0\n",
      "formating test-set 1\n",
      "formatting /data/cristian/supervised-avanzado-mnist/.dataget/data/mnist/test-set/1/1.csv\n",
      "1\n",
      "formating test-set 11\n",
      "formatting /data/cristian/supervised-avanzado-mnist/.dataget/data/mnist/test-set/11/11.csv\n",
      "11\n",
      "formating test-set 13\n",
      "formatting /data/cristian/supervised-avanzado-mnist/.dataget/data/mnist/test-set/13/13.csv\n",
      "13\n",
      "formating test-set 10\n",
      "formatting /data/cristian/supervised-avanzado-mnist/.dataget/data/mnist/test-set/10/10.csv\n",
      "10\n",
      "formating test-set 12\n",
      "formatting /data/cristian/supervised-avanzado-mnist/.dataget/data/mnist/test-set/12/12.csv\n",
      "12\n",
      "formating test-set 14\n",
      "formatting /data/cristian/supervised-avanzado-mnist/.dataget/data/mnist/test-set/14/14.csv\n",
      "14\n",
      "formating test-set 15\n",
      "formatting /data/cristian/supervised-avanzado-mnist/.dataget/data/mnist/test-set/15/15.csv\n",
      "15\n",
      "formating test-set 16\n",
      "formatting /data/cristian/supervised-avanzado-mnist/.dataget/data/mnist/test-set/16/16.csv\n",
      "16\n",
      "formating test-set 17\n",
      "formatting /data/cristian/supervised-avanzado-mnist/.dataget/data/mnist/test-set/17/17.csv\n",
      "17\n",
      "formating test-set 18\n",
      "formatting /data/cristian/supervised-avanzado-mnist/.dataget/data/mnist/test-set/18/18.csv\n",
      "18\n",
      "formating test-set 19\n",
      "formatting /data/cristian/supervised-avanzado-mnist/.dataget/data/mnist/test-set/19/19.csv\n",
      "19\n",
      "formating test-set 2\n",
      "formatting /data/cristian/supervised-avanzado-mnist/.dataget/data/mnist/test-set/2/2.csv\n",
      "2\n",
      "formating test-set 20\n",
      "formatting /data/cristian/supervised-avanzado-mnist/.dataget/data/mnist/test-set/20/20.csv\n",
      "20\n",
      "formating test-set 21\n",
      "formatting /data/cristian/supervised-avanzado-mnist/.dataget/data/mnist/test-set/21/21.csv\n",
      "21\n",
      "formating test-set 22\n",
      "formatting /data/cristian/supervised-avanzado-mnist/.dataget/data/mnist/test-set/22/22.csv\n",
      "22\n",
      "formating test-set 23\n",
      "formatting /data/cristian/supervised-avanzado-mnist/.dataget/data/mnist/test-set/23/23.csv\n",
      "23\n",
      "formating test-set 24\n",
      "formatting /data/cristian/supervised-avanzado-mnist/.dataget/data/mnist/test-set/24/24.csv\n",
      "24\n",
      "formating test-set 25\n",
      "formatting /data/cristian/supervised-avanzado-mnist/.dataget/data/mnist/test-set/25/25.csv\n",
      "25\n",
      "formating test-set 26\n",
      "formatting /data/cristian/supervised-avanzado-mnist/.dataget/data/mnist/test-set/26/26.csv\n",
      "26\n",
      "formating test-set 27\n",
      "formatting /data/cristian/supervised-avanzado-mnist/.dataget/data/mnist/test-set/27/27.csv\n",
      "27\n",
      "formating test-set 28\n",
      "formatting /data/cristian/supervised-avanzado-mnist/.dataget/data/mnist/test-set/28/28.csv\n",
      "28\n",
      "formating test-set 29\n",
      "formatting /data/cristian/supervised-avanzado-mnist/.dataget/data/mnist/test-set/29/29.csv\n",
      "29\n",
      "formating test-set 3\n",
      "formatting /data/cristian/supervised-avanzado-mnist/.dataget/data/mnist/test-set/3/3.csv\n",
      "3\n",
      "formating test-set 30\n",
      "formatting /data/cristian/supervised-avanzado-mnist/.dataget/data/mnist/test-set/30/30.csv\n",
      "30\n",
      "formating test-set 31\n",
      "formatting /data/cristian/supervised-avanzado-mnist/.dataget/data/mnist/test-set/31/31.csv\n",
      "31\n",
      "formating test-set 32\n",
      "formatting /data/cristian/supervised-avanzado-mnist/.dataget/data/mnist/test-set/32/32.csv\n",
      "32\n",
      "formating test-set 33\n",
      "formatting /data/cristian/supervised-avanzado-mnist/.dataget/data/mnist/test-set/33/33.csv\n",
      "33\n",
      "formating test-set 34\n",
      "formatting /data/cristian/supervised-avanzado-mnist/.dataget/data/mnist/test-set/34/34.csv\n",
      "34\n",
      "formating test-set 35\n",
      "formatting /data/cristian/supervised-avanzado-mnist/.dataget/data/mnist/test-set/35/35.csv\n",
      "35\n",
      "formating test-set 36\n",
      "formatting /data/cristian/supervised-avanzado-mnist/.dataget/data/mnist/test-set/36/36.csv\n",
      "36\n",
      "formating test-set 37\n",
      "formatting /data/cristian/supervised-avanzado-mnist/.dataget/data/mnist/test-set/37/37.csv\n",
      "37\n",
      "formating test-set 38\n",
      "formatting /data/cristian/supervised-avanzado-mnist/.dataget/data/mnist/test-set/38/38.csv\n",
      "38\n",
      "formating test-set 39\n",
      "formatting /data/cristian/supervised-avanzado-mnist/.dataget/data/mnist/test-set/39/39.csv\n",
      "39\n",
      "formating test-set 4\n",
      "formatting /data/cristian/supervised-avanzado-mnist/.dataget/data/mnist/test-set/4/4.csv\n",
      "4\n",
      "formating test-set 40\n",
      "formatting /data/cristian/supervised-avanzado-mnist/.dataget/data/mnist/test-set/40/40.csv\n",
      "40\n",
      "formating test-set 41\n",
      "formatting /data/cristian/supervised-avanzado-mnist/.dataget/data/mnist/test-set/41/41.csv\n",
      "41\n",
      "formating test-set 42\n",
      "formatting /data/cristian/supervised-avanzado-mnist/.dataget/data/mnist/test-set/42/42.csv\n",
      "42\n",
      "formating test-set 5\n",
      "formatting /data/cristian/supervised-avanzado-mnist/.dataget/data/mnist/test-set/5/5.csv\n",
      "5\n",
      "formating test-set 6\n",
      "formatting /data/cristian/supervised-avanzado-mnist/.dataget/data/mnist/test-set/6/6.csv\n",
      "6\n",
      "formating test-set 7\n",
      "formatting /data/cristian/supervised-avanzado-mnist/.dataget/data/mnist/test-set/7/7.csv\n",
      "7\n",
      "formating test-set 8\n",
      "formatting /data/cristian/supervised-avanzado-mnist/.dataget/data/mnist/test-set/8/8.csv\n",
      "8\n",
      "formating test-set 9\n",
      "formatting /data/cristian/supervised-avanzado-mnist/.dataget/data/mnist/test-set/9/9.csv\n",
      "9\n",
      "formatting /data/cristian/supervised-avanzado-mnist/.dataget/data/mnist/training-set/0/0.csv\n",
      "0\n",
      "formating training-set 0\n",
      "formating training-set 1\n",
      "formatting /data/cristian/supervised-avanzado-mnist/.dataget/data/mnist/training-set/1/1.csv\n",
      "1\n",
      "formating training-set 10\n",
      "formatting /data/cristian/supervised-avanzado-mnist/.dataget/data/mnist/training-set/10/10.csv\n",
      "10\n",
      "formating training-set 11\n",
      "formatting /data/cristian/supervised-avanzado-mnist/.dataget/data/mnist/training-set/11/11.csv\n",
      "11\n",
      "formating training-set 12\n",
      "formatting /data/cristian/supervised-avanzado-mnist/.dataget/data/mnist/training-set/12/12.csv\n",
      "12\n",
      "formating training-set 13\n"
     ]
    },
    {
     "name": "stdout",
     "output_type": "stream",
     "text": [
      "formatting /data/cristian/supervised-avanzado-mnist/.dataget/data/mnist/training-set/13/13.csv\n",
      "13\n",
      "formating training-set 14\n",
      "formatting /data/cristian/supervised-avanzado-mnist/.dataget/data/mnist/training-set/14/14.csv\n",
      "14\n",
      "formating training-set 15\n",
      "formatting /data/cristian/supervised-avanzado-mnist/.dataget/data/mnist/training-set/15/15.csv\n",
      "15\n",
      "formating training-set 16\n",
      "formatting /data/cristian/supervised-avanzado-mnist/.dataget/data/mnist/training-set/16/16.csv\n",
      "16\n",
      "formating training-set 17\n",
      "formatting /data/cristian/supervised-avanzado-mnist/.dataget/data/mnist/training-set/17/17.csv\n",
      "17\n",
      "formating training-set 18\n",
      "formatting /data/cristian/supervised-avanzado-mnist/.dataget/data/mnist/training-set/18/18.csv\n",
      "18\n",
      "formating training-set 19\n",
      "formatting /data/cristian/supervised-avanzado-mnist/.dataget/data/mnist/training-set/19/19.csv\n",
      "19\n",
      "formating training-set 2\n",
      "formatting /data/cristian/supervised-avanzado-mnist/.dataget/data/mnist/training-set/2/2.csv\n",
      "2\n",
      "formating training-set 20\n",
      "formatting /data/cristian/supervised-avanzado-mnist/.dataget/data/mnist/training-set/20/20.csv\n",
      "20\n",
      "formating training-set 21\n",
      "formatting /data/cristian/supervised-avanzado-mnist/.dataget/data/mnist/training-set/21/21.csv\n",
      "21\n",
      "formating training-set 22\n",
      "formatting /data/cristian/supervised-avanzado-mnist/.dataget/data/mnist/training-set/22/22.csv\n",
      "22\n",
      "formating training-set 23\n",
      "formatting /data/cristian/supervised-avanzado-mnist/.dataget/data/mnist/training-set/23/23.csv\n",
      "23\n",
      "formating training-set 24\n",
      "formatting /data/cristian/supervised-avanzado-mnist/.dataget/data/mnist/training-set/24/24.csv\n",
      "24\n",
      "formating training-set 25\n",
      "formatting /data/cristian/supervised-avanzado-mnist/.dataget/data/mnist/training-set/25/25.csv\n",
      "25\n",
      "formating training-set 26\n",
      "formatting /data/cristian/supervised-avanzado-mnist/.dataget/data/mnist/training-set/26/26.csv\n",
      "26\n",
      "formating training-set 27\n",
      "formatting /data/cristian/supervised-avanzado-mnist/.dataget/data/mnist/training-set/27/27.csv\n",
      "27\n",
      "formating training-set 28\n",
      "formatting /data/cristian/supervised-avanzado-mnist/.dataget/data/mnist/training-set/28/28.csv\n",
      "28\n",
      "formating training-set 29\n",
      "formatting /data/cristian/supervised-avanzado-mnist/.dataget/data/mnist/training-set/29/29.csv\n",
      "29\n",
      "formating training-set 3\n",
      "formatting /data/cristian/supervised-avanzado-mnist/.dataget/data/mnist/training-set/3/3.csv\n",
      "3\n",
      "formating training-set 30\n",
      "formatting /data/cristian/supervised-avanzado-mnist/.dataget/data/mnist/training-set/30/30.csv\n",
      "30\n",
      "formating training-set 31\n",
      "formatting /data/cristian/supervised-avanzado-mnist/.dataget/data/mnist/training-set/31/31.csv\n",
      "31\n",
      "formating training-set 32\n",
      "formatting /data/cristian/supervised-avanzado-mnist/.dataget/data/mnist/training-set/32/32.csv\n",
      "32\n",
      "formating training-set 33\n",
      "formatting /data/cristian/supervised-avanzado-mnist/.dataget/data/mnist/training-set/33/33.csv\n",
      "33\n",
      "formating training-set 34\n",
      "formatting /data/cristian/supervised-avanzado-mnist/.dataget/data/mnist/training-set/34/34.csv\n",
      "34\n",
      "formating training-set 35\n",
      "formatting /data/cristian/supervised-avanzado-mnist/.dataget/data/mnist/training-set/35/35.csv\n",
      "35\n",
      "formating training-set 36\n",
      "formatting /data/cristian/supervised-avanzado-mnist/.dataget/data/mnist/training-set/36/36.csv\n",
      "36\n",
      "formating training-set 37\n",
      "formatting /data/cristian/supervised-avanzado-mnist/.dataget/data/mnist/training-set/37/37.csv\n",
      "37\n",
      "formating training-set 38\n",
      "formatting /data/cristian/supervised-avanzado-mnist/.dataget/data/mnist/training-set/38/38.csv\n",
      "38\n",
      "formating training-set 39\n",
      "formatting /data/cristian/supervised-avanzado-mnist/.dataget/data/mnist/training-set/39/39.csv\n",
      "39\n",
      "formating training-set 4\n",
      "formatting /data/cristian/supervised-avanzado-mnist/.dataget/data/mnist/training-set/4/4.csv\n",
      "4\n",
      "formating training-set 40\n",
      "formatting /data/cristian/supervised-avanzado-mnist/.dataget/data/mnist/training-set/40/40.csv\n",
      "40\n",
      "formating training-set 41\n",
      "formatting /data/cristian/supervised-avanzado-mnist/.dataget/data/mnist/training-set/41/41.csv\n",
      "41\n",
      "formating training-set 42\n",
      "formatting /data/cristian/supervised-avanzado-mnist/.dataget/data/mnist/training-set/42/42.csv\n",
      "42\n",
      "formating training-set 5\n",
      "formatting /data/cristian/supervised-avanzado-mnist/.dataget/data/mnist/training-set/5/5.csv\n",
      "5\n",
      "formating training-set 6\n",
      "formatting /data/cristian/supervised-avanzado-mnist/.dataget/data/mnist/training-set/6/6.csv\n",
      "6\n",
      "formating training-set 7\n",
      "formatting /data/cristian/supervised-avanzado-mnist/.dataget/data/mnist/training-set/7/7.csv\n",
      "7\n",
      "formating training-set 8\n",
      "formatting /data/cristian/supervised-avanzado-mnist/.dataget/data/mnist/training-set/8/8.csv\n",
      "8\n",
      "formating training-set 9\n",
      "formatting /data/cristian/supervised-avanzado-mnist/.dataget/data/mnist/training-set/9/9.csv\n",
      "9\n",
      "\n",
      "===RM-RAW===\n",
      "\n"
     ]
    }
   ],
   "source": [
    "dataset = data(\"mnist\").get()"
   ]
  },
  {
   "cell_type": "markdown",
   "metadata": {},
   "source": [
    "### Random Batch DataFrame\n",
    "Para fines de visualizacion, a continuacion vamos a obtener un dataframe de 10 filas con imagenes aleatorias del `training_set` utilizando el metodo `random_batch_dataframe_generator`, este nos devuelve un generador \"infinito\" por lo cual utilizamos la funcion `next` para obtener solo el primer dataframe."
   ]
  },
  {
   "cell_type": "code",
   "execution_count": 3,
   "metadata": {},
   "outputs": [
    {
     "data": {
      "text/html": [
       "<div>\n",
       "<table border=\"1\" class=\"dataframe\">\n",
       "  <thead>\n",
       "    <tr style=\"text-align: right;\">\n",
       "      <th></th>\n",
       "      <th>filename</th>\n",
       "      <th>width</th>\n",
       "      <th>height</th>\n",
       "      <th>roi.x1</th>\n",
       "      <th>roi.y1</th>\n",
       "      <th>roi.x2</th>\n",
       "      <th>roi.y2</th>\n",
       "      <th>class_id</th>\n",
       "      <th>image</th>\n",
       "    </tr>\n",
       "  </thead>\n",
       "  <tbody>\n",
       "    <tr>\n",
       "      <th>1281</th>\n",
       "      <td>/data/cristian/supervised-avanzado-german-traf...</td>\n",
       "      <td>68</td>\n",
       "      <td>69</td>\n",
       "      <td>6</td>\n",
       "      <td>7</td>\n",
       "      <td>62</td>\n",
       "      <td>63</td>\n",
       "      <td>9</td>\n",
       "      <td>[[[255, 255, 255], [255, 254, 255], [255, 254,...</td>\n",
       "    </tr>\n",
       "    <tr>\n",
       "      <th>434</th>\n",
       "      <td>/data/cristian/supervised-avanzado-german-traf...</td>\n",
       "      <td>64</td>\n",
       "      <td>58</td>\n",
       "      <td>6</td>\n",
       "      <td>5</td>\n",
       "      <td>59</td>\n",
       "      <td>52</td>\n",
       "      <td>13</td>\n",
       "      <td>[[[243, 255, 255], [232, 248, 248], [232, 251,...</td>\n",
       "    </tr>\n",
       "    <tr>\n",
       "      <th>547</th>\n",
       "      <td>/data/cristian/supervised-avanzado-german-traf...</td>\n",
       "      <td>52</td>\n",
       "      <td>51</td>\n",
       "      <td>5</td>\n",
       "      <td>6</td>\n",
       "      <td>47</td>\n",
       "      <td>46</td>\n",
       "      <td>18</td>\n",
       "      <td>[[[68, 68, 60], [74, 70, 58], [61, 55, 41], [4...</td>\n",
       "    </tr>\n",
       "    <tr>\n",
       "      <th>26</th>\n",
       "      <td>/data/cristian/supervised-avanzado-german-traf...</td>\n",
       "      <td>134</td>\n",
       "      <td>122</td>\n",
       "      <td>12</td>\n",
       "      <td>11</td>\n",
       "      <td>123</td>\n",
       "      <td>111</td>\n",
       "      <td>27</td>\n",
       "      <td>[[[51, 50, 48], [41, 40, 36], [40, 39, 35], [4...</td>\n",
       "    </tr>\n",
       "    <tr>\n",
       "      <th>83</th>\n",
       "      <td>/data/cristian/supervised-avanzado-german-traf...</td>\n",
       "      <td>43</td>\n",
       "      <td>41</td>\n",
       "      <td>5</td>\n",
       "      <td>6</td>\n",
       "      <td>38</td>\n",
       "      <td>36</td>\n",
       "      <td>10</td>\n",
       "      <td>[[[65, 71, 71], [64, 70, 68], [65, 71, 69], [6...</td>\n",
       "    </tr>\n",
       "    <tr>\n",
       "      <th>1769</th>\n",
       "      <td>/data/cristian/supervised-avanzado-german-traf...</td>\n",
       "      <td>71</td>\n",
       "      <td>70</td>\n",
       "      <td>7</td>\n",
       "      <td>6</td>\n",
       "      <td>65</td>\n",
       "      <td>64</td>\n",
       "      <td>38</td>\n",
       "      <td>[[[87, 77, 76], [81, 72, 73], [80, 74, 78], [8...</td>\n",
       "    </tr>\n",
       "    <tr>\n",
       "      <th>1024</th>\n",
       "      <td>/data/cristian/supervised-avanzado-german-traf...</td>\n",
       "      <td>35</td>\n",
       "      <td>33</td>\n",
       "      <td>5</td>\n",
       "      <td>6</td>\n",
       "      <td>30</td>\n",
       "      <td>28</td>\n",
       "      <td>18</td>\n",
       "      <td>[[[15, 13, 18], [15, 14, 20], [15, 15, 23], [1...</td>\n",
       "    </tr>\n",
       "    <tr>\n",
       "      <th>227</th>\n",
       "      <td>/data/cristian/supervised-avanzado-german-traf...</td>\n",
       "      <td>62</td>\n",
       "      <td>57</td>\n",
       "      <td>6</td>\n",
       "      <td>5</td>\n",
       "      <td>57</td>\n",
       "      <td>52</td>\n",
       "      <td>30</td>\n",
       "      <td>[[[83, 114, 161], [19, 35, 68], [25, 28, 43], ...</td>\n",
       "    </tr>\n",
       "    <tr>\n",
       "      <th>357</th>\n",
       "      <td>/data/cristian/supervised-avanzado-german-traf...</td>\n",
       "      <td>63</td>\n",
       "      <td>67</td>\n",
       "      <td>5</td>\n",
       "      <td>6</td>\n",
       "      <td>58</td>\n",
       "      <td>61</td>\n",
       "      <td>6</td>\n",
       "      <td>[[[255, 255, 253], [255, 255, 253], [255, 255,...</td>\n",
       "    </tr>\n",
       "    <tr>\n",
       "      <th>684</th>\n",
       "      <td>/data/cristian/supervised-avanzado-german-traf...</td>\n",
       "      <td>43</td>\n",
       "      <td>44</td>\n",
       "      <td>5</td>\n",
       "      <td>6</td>\n",
       "      <td>38</td>\n",
       "      <td>39</td>\n",
       "      <td>4</td>\n",
       "      <td>[[[74, 88, 97], [82, 89, 99], [95, 98, 107], [...</td>\n",
       "    </tr>\n",
       "  </tbody>\n",
       "</table>\n",
       "</div>"
      ],
      "text/plain": [
       "                                               filename  width  height  \\\n",
       "1281  /data/cristian/supervised-avanzado-german-traf...     68      69   \n",
       "434   /data/cristian/supervised-avanzado-german-traf...     64      58   \n",
       "547   /data/cristian/supervised-avanzado-german-traf...     52      51   \n",
       "26    /data/cristian/supervised-avanzado-german-traf...    134     122   \n",
       "83    /data/cristian/supervised-avanzado-german-traf...     43      41   \n",
       "1769  /data/cristian/supervised-avanzado-german-traf...     71      70   \n",
       "1024  /data/cristian/supervised-avanzado-german-traf...     35      33   \n",
       "227   /data/cristian/supervised-avanzado-german-traf...     62      57   \n",
       "357   /data/cristian/supervised-avanzado-german-traf...     63      67   \n",
       "684   /data/cristian/supervised-avanzado-german-traf...     43      44   \n",
       "\n",
       "      roi.x1  roi.y1  roi.x2  roi.y2  class_id  \\\n",
       "1281       6       7      62      63         9   \n",
       "434        6       5      59      52        13   \n",
       "547        5       6      47      46        18   \n",
       "26        12      11     123     111        27   \n",
       "83         5       6      38      36        10   \n",
       "1769       7       6      65      64        38   \n",
       "1024       5       6      30      28        18   \n",
       "227        6       5      57      52        30   \n",
       "357        5       6      58      61         6   \n",
       "684        5       6      38      39         4   \n",
       "\n",
       "                                                  image  \n",
       "1281  [[[255, 255, 255], [255, 254, 255], [255, 254,...  \n",
       "434   [[[243, 255, 255], [232, 248, 248], [232, 251,...  \n",
       "547   [[[68, 68, 60], [74, 70, 58], [61, 55, 41], [4...  \n",
       "26    [[[51, 50, 48], [41, 40, 36], [40, 39, 35], [4...  \n",
       "83    [[[65, 71, 71], [64, 70, 68], [65, 71, 69], [6...  \n",
       "1769  [[[87, 77, 76], [81, 72, 73], [80, 74, 78], [8...  \n",
       "1024  [[[15, 13, 18], [15, 14, 20], [15, 15, 23], [1...  \n",
       "227   [[[83, 114, 161], [19, 35, 68], [25, 28, 43], ...  \n",
       "357   [[[255, 255, 253], [255, 255, 253], [255, 255,...  \n",
       "684   [[[74, 88, 97], [82, 89, 99], [95, 98, 107], [...  "
      ]
     },
     "execution_count": 3,
     "metadata": {},
     "output_type": "execute_result"
    }
   ],
   "source": [
    "# obtener todas la imagenes (lento)\n",
    "# df = dataset.training_set.dataframe()\n",
    "\n",
    "# obtener 10 imagenes aleatorias (rapido)\n",
    "df = next(dataset.training_set.random_batch_dataframe_generator(10))\n",
    "\n",
    "\n",
    "df"
   ]
  },
  {
   "cell_type": "markdown",
   "metadata": {},
   "source": [
    "Como vemos, el dataframe tiene los atributos `filename` que nos indica el nombre del archivo, `class_id` es la clase a la que corresponde la imagen, e `images` el cual contiene la informacion de la imagen representada como arreglos de numpy. Los otros atributos nos dicen la informacion del bounding box pero estos nos son relevantes para la tarea que queremos realizar.\n",
    "\n",
    "### Visualizacion de las muestras\n",
    "Para visualizar las muestras iteramos sobre el dataframe y utilizamos la funcion `imshow` de `matplotlib.pyplot` el cual importamos como `plt`."
   ]
  },
  {
   "cell_type": "code",
   "execution_count": 4,
   "metadata": {
    "scrolled": true
   },
   "outputs": [
    {
     "name": "stdout",
     "output_type": "stream",
     "text": [
      "class: 9, shape: (32, 32, 3)\n"
     ]
    },
    {
     "data": {
      "image/png": "[encoded data removed]",
      "text/plain": [
       "<matplotlib.figure.Figure at 0x7efda5592990>"
      ]
     },
     "metadata": {},
     "output_type": "display_data"
    },
    {
     "name": "stdout",
     "output_type": "stream",
     "text": [
      "class: 13, shape: (32, 32, 3)\n"
     ]
    },
    {
     "data": {
      "image/png": "[encoded data removed]",
      "text/plain": [
       "<matplotlib.figure.Figure at 0x7efda52a49d0>"
      ]
     },
     "metadata": {},
     "output_type": "display_data"
    },
    {
     "name": "stdout",
     "output_type": "stream",
     "text": [
      "class: 18, shape: (32, 32, 3)\n"
     ]
    },
    {
     "data": {
      "image/png": "[encoded data removed]",
      "text/plain": [
       "<matplotlib.figure.Figure at 0x7efda4885a90>"
      ]
     },
     "metadata": {},
     "output_type": "display_data"
    },
    {
     "name": "stdout",
     "output_type": "stream",
     "text": [
      "class: 27, shape: (32, 32, 3)\n"
     ]
    },
    {
     "data": {
      "image/png": "[encoded data removed]",
      "text/plain": [
       "<matplotlib.figure.Figure at 0x7efda48f6f90>"
      ]
     },
     "metadata": {},
     "output_type": "display_data"
    },
    {
     "name": "stdout",
     "output_type": "stream",
     "text": [
      "class: 10, shape: (32, 32, 3)\n"
     ]
    },
    {
     "data": {
      "image/png": "[encoded data removed]",
      "text/plain": [
       "<matplotlib.figure.Figure at 0x7efda470ec10>"
      ]
     },
     "metadata": {},
     "output_type": "display_data"
    },
    {
     "name": "stdout",
     "output_type": "stream",
     "text": [
      "class: 38, shape: (32, 32, 3)\n"
     ]
    },
    {
     "data": {
      "image/png": "[encoded data removed]",
      "text/plain": [
       "<matplotlib.figure.Figure at 0x7efda5057550>"
      ]
     },
     "metadata": {},
     "output_type": "display_data"
    },
    {
     "name": "stdout",
     "output_type": "stream",
     "text": [
      "class: 18, shape: (32, 32, 3)\n"
     ]
    },
    {
     "data": {
      "image/png": "[encoded data removed]",
      "text/plain": [
       "<matplotlib.figure.Figure at 0x7efd59140e50>"
      ]
     },
     "metadata": {},
     "output_type": "display_data"
    },
    {
     "name": "stdout",
     "output_type": "stream",
     "text": [
      "class: 30, shape: (32, 32, 3)\n"
     ]
    },
    {
     "data": {
      "image/png": "[encoded data removed]",
      "text/plain": [
       "<matplotlib.figure.Figure at 0x7efda452cd90>"
      ]
     },
     "metadata": {},
     "output_type": "display_data"
    },
    {
     "name": "stdout",
     "output_type": "stream",
     "text": [
      "class: 6, shape: (32, 32, 3)\n"
     ]
    },
    {
     "data": {
      "image/png": "[encoded data removed]",
      "text/plain": [
       "<matplotlib.figure.Figure at 0x7efd591dcf90>"
      ]
     },
     "metadata": {},
     "output_type": "display_data"
    },
    {
     "name": "stdout",
     "output_type": "stream",
     "text": [
      "class: 4, shape: (32, 32, 3)\n"
     ]
    },
    {
     "data": {
      "image/png": "[encoded data removed]",
      "text/plain": [
       "<matplotlib.figure.Figure at 0x7efd59286610>"
      ]
     },
     "metadata": {},
     "output_type": "display_data"
    }
   ],
   "source": [
    "for i, row in df.iterrows():\n",
    "    img = row.image\n",
    "    print(\"class: {}, shape: {}\".format(row.class_id, img.shape))\n",
    "    plt.imshow(img)\n",
    "    plt.show()"
   ]
  },
  {
   "cell_type": "markdown",
   "metadata": {},
   "source": [
    "### Numpy Arrays\n",
    "Para trabajar librarias de Machine Learning usualmente es mas facil obtener los datos como arreglos de numpy, para esto utilizamos los metodos `arrays` o `random_batch_arrays_generator` los cuales nos devuelven una tupla o un generador de tuplas, cada tupla contiene un arreglo `features` con las imagenes y un arreglo `labels` con las clases."
   ]
  },
  {
   "cell_type": "code",
   "execution_count": 6,
   "metadata": {},
   "outputs": [
    {
     "name": "stdout",
     "output_type": "stream",
     "text": [
      "Features shape: (10, 32, 32, 3) \n",
      "Labels shape: (10,)\n"
     ]
    }
   ],
   "source": [
    "# obtener todas las imagenes (lento)\n",
    "# features, labels = dataset.training_set.arrays()\n",
    "\n",
    "# obtener 10 imagenes alatorias (rapido)\n",
    "features, labels = next(dataset.training_set.random_batch_arrays_generator(10))\n",
    "\n",
    "print(\"Features shape: {} \\nLabels shape: {}\".format(features.shape, labels.shape))"
   ]
  },
  {
   "cell_type": "code",
   "execution_count": null,
   "metadata": {
    "collapsed": true
   },
   "outputs": [],
   "source": []
  }
 ],
 "metadata": {
  "kernelspec": {
   "display_name": "Python 2",
   "language": "python",
   "name": "python2"
  },
  "language_info": {
   "codemirror_mode": {
    "name": "ipython",
    "version": 2
   },
   "file_extension": ".py",
   "mimetype": "text/x-python",
   "name": "python",
   "nbconvert_exporter": "python",
   "pygments_lexer": "ipython2",
   "version": "2.7.12+"
  }
 },
 "nbformat": 4,
 "nbformat_minor": 2
}
